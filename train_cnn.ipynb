{
 "cells": [
  {
   "cell_type": "markdown",
   "metadata": {},
   "source": [
    "# Advanced Lane Detection\n",
    "\n",
    "## (using Deep Learning)\n",
    "\n",
    "\n",
    "\n",
    "\n",
    "### Import TensorFlow and Keras libraries\n",
    "\n",
    "We will start by importing all the necessary libraries for Keras and TensorFlow. Apart from these libraries, we will also import some other libraries such as NumPy, Glob, cv2, csv, and MatPlotLib.\n"
   ]
  },
  {
   "cell_type": "code",
   "execution_count": null,
   "metadata": {},
   "outputs": [],
   "source": [
    "import os\n",
    "import csv\n",
    "import cv2\n",
    "import numpy as np\n",
    "import keras\n",
    "import tensorflow as tf\n",
    "import matplotlib.image as mpimg\n",
    "import matplotlib.pyplot as plt\n",
    "import random\n",
    "import math\n",
    "\n",
    "from scipy import ndimage\n",
    "\n",
    "from keras.models import Sequential\n",
    "from keras.layers import Flatten, Dense, Lambda, Activation\n",
    "from keras.layers import Conv2D, MaxPooling2D\n",
    "from keras.layers import Cropping2D\n",
    "from keras.layers import Dropout\n",
    "\n",
    "import sklearn\n",
    "from sklearn.model_selection import train_test_split\n",
    "\n",
    "import GPUtil as GPU"
   ]
  },
  {
   "cell_type": "markdown",
   "metadata": {},
   "source": [
    "## GPU information\n",
    "\n",
    "Here, we will print some information related to GPU memory capacity. The user can accordingly make modifications to the code in case of more/less capacity."
   ]
  },
  {
   "cell_type": "code",
   "execution_count": null,
   "metadata": {},
   "outputs": [],
   "source": [
    "import GPUtil as GPU\n",
    "GPUs = GPU.getGPUs()\n",
    "gpu = GPUs[0]\n",
    "print(\"Total Available GPU memory: {} MB\".format(gpu.memoryTotal))\n",
    "print(\"Used GPU memory: {} MB\".format(gpu.memoryUsed))\n",
    "print(\"Total Free GPU memory: {} MB\".format(gpu.memoryFree))"
   ]
  },
  {
   "cell_type": "markdown",
   "metadata": {},
   "source": [
    "## Check library versions\n",
    "\n",
    "Here, we print the versions of tensorflow, keras and OpenCV versions to compare compatibility."
   ]
  },
  {
   "cell_type": "code",
   "execution_count": null,
   "metadata": {},
   "outputs": [],
   "source": [
    "# printing installed tensorflow/keras/OpenCV versions\n",
    "print(\"Current OpenCV version:\", cv2.__version__)\n",
    "print(\"Using TensorFlow version:\", tf.__version__)\n",
    "print(\"Using Keras version:\", keras.__version__)"
   ]
  },
  {
   "cell_type": "markdown",
   "metadata": {},
   "source": [
    "## Dataset building and Augmentation\n",
    "\n",
    "Here, we load the data from the *driving_log.csv* file and if required, augment the data by flipping the images in the opposite direction."
   ]
  },
  {
   "cell_type": "code",
   "execution_count": null,
   "metadata": {},
   "outputs": [],
   "source": [
    "# 1. Start of dataset building\n",
    "## Read the csv file containing saved model data\n",
    "\n",
    "lines = []\n",
    "with open('./data/model_data.csv') as csvfile:\n",
    "    reader = csv.reader(csvfile)\n",
    "    for line in reader:\n",
    "        lines.append(line)\n",
    "\n",
    "# empty list to save images        \n",
    "binary_images = []\n",
    "\n",
    "# lists to save polynomial measurements for left and right lanes\n",
    "\n",
    "left_measurements_a = []\n",
    "left_measurements_b = []\n",
    "left_measurements_c = []\n",
    "right_measurements_a = []\n",
    "right_measurements_b = []\n",
    "right_measurements_c = []\n",
    "\n",
    "# directory for accessing binary images\n",
    "directory = '../data_for_lane_detection/binary_images/'\n",
    "directory = '../data_for_lane_detection/lanelines_images/'\n",
    "directory = '../data_for_lane_detection/transformed_images/'\n",
    "\n",
    "# setting data augmentation activation to True/False\n",
    "augment = True\n",
    "\n",
    "if (augment):\n",
    "    print(\"Performing data augmentation by flipping the images ...\\n\")\n",
    "\n",
    "for line in lines:\n",
    "\n",
    "    # reading filesnames for binary images and lanelines images\n",
    "    fname_binary_img = directory + line[0].split('/')[-1]\n",
    "    fname_lanelines_img = directory + line[1].split('/')[-1]\n",
    "    fname_transformed_img = directory + line[2].split('/')[-1]\n",
    "\n",
    "    # reading images using opencv\n",
    "    bin_img = mpimg.imread(fname_binary_img)\n",
    "    laneline_img = mpimg.imread(fname_lanelines_img)\n",
    "    \n",
    "    # adding images to the lists\n",
    "    images.append(fname_binary_img)\n",
    "    images.append(fname_lanelines_img)\n",
    "    \n",
    "    # adding steering angles for center. left and right images\n",
    "\n",
    "    left_measurements_a.append(float(line[3]))\n",
    "    left_measurements_b.append(float(line[4]))\n",
    "    left_measurements_c.append(float(line[5]))\n",
    "    right_measurements_a.append(float(line[6]))\n",
    "    right_measurements_b.append(float(line[7]))\n",
    "    right_measurements_c.append(float(line[8]))\n",
    "\n",
    "    # only if data augmentation is required\n",
    "    if (augment):\n",
    "        \n",
    "        # this is where I perform data augmentation for images and angles\n",
    "        binary_img_flipped = np.fliplr(fname_binary_img)\n",
    "        images.append(binary_img_flipped)\n",
    "        \n",
    "\n",
    "        laneline_img_flipped = np.fliplr(fname_laneline_img)\n",
    "        images.append(lanelines_img_flipped)\n",
    "\n",
    "\n",
    "        transformed_img_flipped = np.fliplr(fname_transformed_img)\n",
    "        images.append(transformed_img_flipped)\n",
    "        \n",
    "        # flip the measurements\n",
    "        left_measurements_a_flip = -(float(line[3]))\n",
    "        left_measurements_b_flip = -(float(line[4]))\n",
    "        left_measurements_c_flip = -(float(line[5]))\n",
    "        right_measurements_a_flip = -(float(line[6]))\n",
    "        right_measurements_b_flip = -(float(line[7]))\n",
    "        right_measurements_c_flip = -(float(line[8]))\n",
    "        \n",
    "        # add the flipped measurements to the current measurements lists\n",
    "        left_measurements_a.append(left_measurements_a_flip)\n",
    "        left_measurements_b.append(left_measurements_b_flip)\n",
    "        left_measurements_c.append(left_measurements_c_flip)\n",
    "        right_measurements_a.append(right_measurements_a_flip)\n",
    "        right_measurements_b.append(right_measurements_b_flip)\n",
    "        right_measurements_c.append(right_measurements_c_flip)\n",
    "\n",
    "\n",
    "# define arrays for datasets\n",
    "X_train = np.array(images)\n",
    "steering_angles = np.array(measurements)"
   ]
  }
 ],
 "metadata": {
  "kernelspec": {
   "display_name": "Python 3",
   "language": "python",
   "name": "python3"
  },
  "language_info": {
   "codemirror_mode": {
    "name": "ipython",
    "version": 3
   },
   "file_extension": ".py",
   "mimetype": "text/x-python",
   "name": "python",
   "nbconvert_exporter": "python",
   "pygments_lexer": "ipython3",
   "version": "3.7.7"
  }
 },
 "nbformat": 4,
 "nbformat_minor": 4
}
